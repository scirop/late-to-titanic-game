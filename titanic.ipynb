{
 "cells": [
  {
   "cell_type": "code",
   "execution_count": 1,
   "metadata": {},
   "outputs": [],
   "source": [
    "import pandas as pd\n",
    "import numpy as np\n",
    "import re\n",
    "from sklearn.feature_extraction.text import TfidfVectorizer"
   ]
  },
  {
   "cell_type": "code",
   "execution_count": 2,
   "metadata": {},
   "outputs": [],
   "source": [
    "MAIN = pd.read_csv(\"/Users/ssahoo/Downloads/train.csv\")\n",
    "EVAL = pd.read_csv(\"/Users/ssahoo/Downloads/test.csv\")"
   ]
  },
  {
   "cell_type": "code",
   "execution_count": 3,
   "metadata": {},
   "outputs": [],
   "source": [
    "title_map = {'Capt':'shipguy',\n",
    " 'Col':'shipguy',\n",
    " 'Countess':'rich',\n",
    " 'Don':'rich',\n",
    " 'Dona':'rich',\n",
    " 'Dr':'shipguy',\n",
    " 'Jonkheer':'rich',\n",
    " 'Lady':'rich',\n",
    " 'Major':'shipguy',\n",
    " 'Master':'master',\n",
    " 'Miss':'miss',\n",
    " 'Mlle':'miss',\n",
    " 'Mme':'mrs',\n",
    " 'Mr':'mr',\n",
    " 'Mrs':'mrs',\n",
    " 'Ms':'miss',\n",
    " 'Rev':'shipguy',\n",
    " 'Sir':'rich'}"
   ]
  },
  {
   "cell_type": "code",
   "execution_count": 4,
   "metadata": {},
   "outputs": [],
   "source": [
    "def name_title(s):\n",
    "    try:\n",
    "        halves = s.split(\".\")\n",
    "        pieces = halves[0].split(\" \")\n",
    "        return title_map[pieces[-1]]\n",
    "    except:\n",
    "        print(s)\n",
    "def feature_so_pretty(data):\n",
    "    try:\n",
    "        X = data.drop(['Survived','PassengerId'], axis=1)\n",
    "    except:\n",
    "        X = data.drop(['PassengerId'], axis=1)\n",
    "\n",
    "    X['Cabin'] = X['Cabin'].fillna('U').apply(lambda x: x[0])\n",
    "    X['Title'] = X['Name'].apply(lambda x: name_title(x))\n",
    "    X['Family Size'] = X['SibSp'] + X['Parch'] + 1\n",
    "    \n",
    "    cabin_dummies = pd.get_dummies(X['Cabin'], prefix='Cabin')\n",
    "    gender_dummies = pd.get_dummies(X['Sex'], prefix='Gender')\n",
    "    em_dummies = pd.get_dummies(X['Embarked'], prefix='Embarked')\n",
    "    class_dummies = pd.get_dummies(X['Pclass'], prefix='Class')\n",
    "    title_dummies = pd.get_dummies(X['Title'], prefix='Title')\n",
    "    \n",
    "    X[list(title_dummies)] = title_dummies\n",
    "    X[list(cabin_dummies)] = cabin_dummies\n",
    "    X[list(gender_dummies)] = gender_dummies\n",
    "    X[list(em_dummies)] = em_dummies\n",
    "    X[list(class_dummies)] = class_dummies\n",
    "\n",
    "    # group by Sex, Pclass, and Title \n",
    "    grouped = X.groupby(['Sex','Pclass', 'Title'])  # view the median Age by the grouped features \n",
    "    X['Age'] = grouped.Age.apply(lambda x: x.fillna(x.median()))\n",
    "    mean_age, std_age = np.mean(X['Age']), np.std(X['Age'])\n",
    "    X['Age'] = X['Age'].apply(lambda x: (x-mean_age)/std_age)\n",
    "    \n",
    "    \n",
    "    '''tfidf = TfidfVectorizer(min_df=5, max_df=0.9)\n",
    "    values = tfidf.fit_transform(X['Ticket'])\n",
    "    df1 = pd.DataFrame(values.toarray(), columns=tfidf.get_feature_names())\n",
    "    X[tfidf.get_feature_names()] = df1'''\n",
    "    \n",
    "    mean_fare = np.mean(X['Fare'])\n",
    "    std_fare = np.std(X['Fare'])\n",
    "\n",
    "    X['Fare'] = (X['Fare'].fillna(X['Fare'].median())).apply(lambda x: (x-mean_fare)/std_fare)\n",
    "\n",
    "    \n",
    "    X = X.drop(['Sex','Embarked','Name','Ticket','Pclass','Title','Cabin'], axis=1).to_numpy()\n",
    "    \n",
    "    return X"
   ]
  },
  {
   "cell_type": "code",
   "execution_count": 5,
   "metadata": {},
   "outputs": [],
   "source": [
    "DATA = MAIN.drop('Survived', axis=1).append(EVAL).reset_index(drop=True)"
   ]
  },
  {
   "cell_type": "code",
   "execution_count": 6,
   "metadata": {},
   "outputs": [],
   "source": [
    "XX = feature_so_pretty(DATA)  "
   ]
  },
  {
   "cell_type": "code",
   "execution_count": 7,
   "metadata": {},
   "outputs": [],
   "source": [
    "X = XX[:len(MAIN)]\n",
    "y = np.array(MAIN['Survived'])"
   ]
  },
  {
   "cell_type": "code",
   "execution_count": 8,
   "metadata": {},
   "outputs": [
    {
     "data": {
      "text/plain": [
       "(891, 28)"
      ]
     },
     "execution_count": 8,
     "metadata": {},
     "output_type": "execute_result"
    }
   ],
   "source": [
    "X.shape"
   ]
  },
  {
   "cell_type": "code",
   "execution_count": 9,
   "metadata": {},
   "outputs": [],
   "source": [
    "from sklearn.model_selection import train_test_split\n",
    "X_train, X_test, y_train, y_test = train_test_split(X, y, test_size=0.1, random_state=123)"
   ]
  },
  {
   "cell_type": "code",
   "execution_count": 10,
   "metadata": {},
   "outputs": [
    {
     "name": "stdout",
     "output_type": "stream",
     "text": [
      "Random Forest Accuracy: 85.56%\n"
     ]
    }
   ],
   "source": [
    "from sklearn.ensemble import RandomForestClassifier as RFC\n",
    "rfc = RFC(random_state=123, n_estimators=100)\n",
    "rfc.fit(X_train, y_train.T);\n",
    "y_pred = rfc.predict(X_test)\n",
    "print(f\"Random Forest Accuracy: {np.mean(y_test==y_pred)*100:.2f}%\")"
   ]
  },
  {
   "cell_type": "code",
   "execution_count": 11,
   "metadata": {},
   "outputs": [
    {
     "data": {
      "text/plain": [
       "(418, 28)"
      ]
     },
     "execution_count": 11,
     "metadata": {},
     "output_type": "execute_result"
    }
   ],
   "source": [
    "X_eval = XX[len(MAIN):]\n",
    "X_eval.shape"
   ]
  },
  {
   "cell_type": "code",
   "execution_count": 12,
   "metadata": {},
   "outputs": [],
   "source": [
    "rfc.fit(X, y.T);\n",
    "y_pred_final = rfc.predict(X_eval)"
   ]
  },
  {
   "cell_type": "code",
   "execution_count": 13,
   "metadata": {},
   "outputs": [],
   "source": [
    "out = EVAL[['PassengerId']].copy()\n",
    "out['Survived'] = y_pred_final\n",
    "out.to_csv(\"gender_submission.csv\", index=False)"
   ]
  },
  {
   "cell_type": "code",
   "execution_count": 14,
   "metadata": {},
   "outputs": [
    {
     "name": "stdout",
     "output_type": "stream",
     "text": [
      "SVM Accuracy: 85.56%\"\n"
     ]
    }
   ],
   "source": [
    "from sklearn.svm import SVC\n",
    "svm = SVC(kernel='linear', gamma=1000)\n",
    "svm.fit(X_train, y_train)\n",
    "y_pred = svm.predict(X_test)\n",
    "print(f'SVM Accuracy: {np.mean(y_pred==y_test)*100:0.02f}%\"')\n",
    "\n",
    "svm.fit(X, y.T);\n",
    "y_pred_final = svm.predict(X_eval)\n",
    "\n",
    "out = EVAL[['PassengerId']].copy()\n",
    "out['Survived'] = y_pred_final\n",
    "out.to_csv(\"gender_submission.csv\", index=False)"
   ]
  },
  {
   "cell_type": "code",
   "execution_count": 15,
   "metadata": {},
   "outputs": [
    {
     "name": "stdout",
     "output_type": "stream",
     "text": [
      "CPU times: user 6.91 s, sys: 1.52 s, total: 8.43 s\n",
      "Wall time: 6.17 s\n"
     ]
    },
    {
     "data": {
      "text/plain": [
       "[0.497669517993927, 0.87777776]"
      ]
     },
     "execution_count": 15,
     "metadata": {},
     "output_type": "execute_result"
    }
   ],
   "source": [
    "%%time\n",
    "import tensorflow as tf\n",
    "tf_model = tf.keras.models.Sequential([\n",
    "  #tf.keras.layers.Flatten(input_shape=(294,)),\n",
    "  tf.keras.layers.Dense(128, activation='relu'),\n",
    "  tf.keras.layers.Dense(5, activation='relu'),\n",
    "  tf.keras.layers.Dense(10, activation='relu'),\n",
    "  #tf.keras.layers.Dropout(0.2),\n",
    "  tf.keras.layers.Dense(2, activation='softmax')\n",
    "])\n",
    "\n",
    "tf_model.compile(optimizer='adam',\n",
    "              loss='sparse_categorical_crossentropy',\n",
    "              metrics=['accuracy'])\n",
    "tf_model.fit(X_train, y_train, epochs=100, verbose=0);\n",
    "tf_model.evaluate(X_test,  y_test, verbose=0)"
   ]
  },
  {
   "cell_type": "code",
   "execution_count": 16,
   "metadata": {},
   "outputs": [],
   "source": [
    "y_pred = [0 if x[0]>x[1] else 1 for x in tf_model.predict(X_eval)]\n",
    "out = EVAL[['PassengerId']].copy()\n",
    "out['Survived'] = y_pred\n",
    "out.to_csv(\"gender_submission.csv\", index=False)"
   ]
  },
  {
   "cell_type": "code",
   "execution_count": 17,
   "metadata": {},
   "outputs": [
    {
     "name": "stdout",
     "output_type": "stream",
     "text": [
      "XGB Accuracy: 86.67%\"\n"
     ]
    }
   ],
   "source": [
    "from xgboost import XGBClassifier\n",
    "\n",
    "# fit model no training data\n",
    "xgb = XGBClassifier(gamma=10)\n",
    "xgb.fit(X_train, y_train)\n",
    "y_pred = xgb.predict(X_test)\n",
    "print(f'XGB Accuracy: {np.mean(y_pred==y_test)*100:0.02f}%\"')"
   ]
  },
  {
   "cell_type": "code",
   "execution_count": null,
   "metadata": {},
   "outputs": [],
   "source": []
  }
 ],
 "metadata": {
  "kernelspec": {
   "display_name": "Python 3",
   "language": "python",
   "name": "python3"
  },
  "language_info": {
   "codemirror_mode": {
    "name": "ipython",
    "version": 3
   },
   "file_extension": ".py",
   "mimetype": "text/x-python",
   "name": "python",
   "nbconvert_exporter": "python",
   "pygments_lexer": "ipython3",
   "version": "3.7.5"
  }
 },
 "nbformat": 4,
 "nbformat_minor": 2
}
